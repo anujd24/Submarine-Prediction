{
 "cells": [
  {
   "cell_type": "markdown",
   "id": "f8e822cf",
   "metadata": {},
   "source": [
    "Importing Dependencies"
   ]
  },
  {
   "cell_type": "code",
   "execution_count": 32,
   "id": "eb1cdef6",
   "metadata": {},
   "outputs": [],
   "source": [
    "import joblib \n",
    "import numpy as np\n",
    "import pandas as pd\n",
    "from sklearn.model_selection import train_test_split\n",
    "from sklearn.linear_model import LogisticRegression\n",
    "from sklearn.metrics import accuracy_score "
   ]
  },
  {
   "cell_type": "markdown",
   "id": "013d0682",
   "metadata": {},
   "source": [
    "Data Collection and Processing"
   ]
  },
  {
   "cell_type": "code",
   "execution_count": null,
   "id": "047ad3ee",
   "metadata": {},
   "outputs": [],
   "source": [
    "sonar_data = pd.read_csv('Copy of sonar data.csv', header=None)\n",
    "sonar_data.head()"
   ]
  },
  {
   "cell_type": "code",
   "execution_count": null,
   "id": "9a42cefd",
   "metadata": {},
   "outputs": [],
   "source": [
    "sonar_data.shape"
   ]
  },
  {
   "cell_type": "code",
   "execution_count": null,
   "id": "38c1a545",
   "metadata": {},
   "outputs": [],
   "source": [
    "sonar_data.describe()"
   ]
  },
  {
   "cell_type": "code",
   "execution_count": null,
   "id": "d7682fd8",
   "metadata": {},
   "outputs": [],
   "source": [
    "sonar_data[60].value_counts()"
   ]
  },
  {
   "cell_type": "code",
   "execution_count": null,
   "id": "ba8f7967",
   "metadata": {},
   "outputs": [],
   "source": [
    "sonar_data.groupby(60).mean()"
   ]
  },
  {
   "cell_type": "code",
   "execution_count": null,
   "id": "1ba647d0",
   "metadata": {},
   "outputs": [],
   "source": [
    "# separating data and labels\n",
    "X = sonar_data.drop(columns=60, axis=1)\n",
    "Y = sonar_data[60]"
   ]
  },
  {
   "cell_type": "code",
   "execution_count": null,
   "id": "2751fbc7",
   "metadata": {},
   "outputs": [],
   "source": [
    "print(X)\n",
    "print(Y)"
   ]
  },
  {
   "cell_type": "code",
   "execution_count": null,
   "id": "36fbe8ee",
   "metadata": {},
   "outputs": [],
   "source": [
    "X_train, X_test, Y_train, Y_test = train_test_split(X, Y, test_size = 0.1, stratify=Y, random_state=1)"
   ]
  },
  {
   "cell_type": "code",
   "execution_count": null,
   "id": "f000cb0d",
   "metadata": {},
   "outputs": [],
   "source": [
    "print(X.shape, X_train.shape, X_test.shape)"
   ]
  },
  {
   "cell_type": "code",
   "execution_count": null,
   "id": "8cbab7c1",
   "metadata": {},
   "outputs": [],
   "source": [
    "print(X_train)\n",
    "print(X_test)"
   ]
  },
  {
   "cell_type": "markdown",
   "id": "0694d8e4",
   "metadata": {},
   "source": [
    "Model Training using Logistic Regression"
   ]
  },
  {
   "cell_type": "code",
   "execution_count": null,
   "id": "d9b24a13",
   "metadata": {},
   "outputs": [],
   "source": [
    "model = LogisticRegression()"
   ]
  },
  {
   "cell_type": "code",
   "execution_count": null,
   "id": "0abc2a20",
   "metadata": {},
   "outputs": [],
   "source": [
    "# now training the model(Logistic Regression Model) with the training data (X_train and Y_train)\n",
    "model.fit(X_train, Y_train)"
   ]
  },
  {
   "cell_type": "markdown",
   "id": "811fe759",
   "metadata": {},
   "source": [
    "Model Evaluation"
   ]
  },
  {
   "cell_type": "code",
   "execution_count": null,
   "id": "a2bd70dd",
   "metadata": {},
   "outputs": [],
   "source": [
    "# checking accuracy\n",
    "X_train_prediction = model.predict(X_train)\n",
    "training_data_accuracy = accuracy_score(X_train_prediction, Y_train)"
   ]
  },
  {
   "cell_type": "code",
   "execution_count": null,
   "id": "3047799c",
   "metadata": {},
   "outputs": [],
   "source": [
    "print(\"Accuracy on Training Data : \", training_data_accuracy )"
   ]
  },
  {
   "cell_type": "code",
   "execution_count": null,
   "id": "bf948789",
   "metadata": {},
   "outputs": [],
   "source": [
    "X_test_prediction = model.predict(X_test)\n",
    "testing_data_accuracy = accuracy_score(X_test_prediction, Y_test)"
   ]
  },
  {
   "cell_type": "code",
   "execution_count": null,
   "id": "b8f2e54a",
   "metadata": {},
   "outputs": [],
   "source": [
    "print(\"Accuracy on Testing Data : \", testing_data_accuracy)"
   ]
  },
  {
   "cell_type": "markdown",
   "id": "8b8b6f19",
   "metadata": {},
   "source": [
    "Making Predictive System"
   ]
  },
  {
   "cell_type": "code",
   "execution_count": null,
   "id": "90ebf103",
   "metadata": {},
   "outputs": [],
   "source": [
    "input_data = (0.0191,0.0173,0.0291,0.0301,0.0463,0.0690,0.0576,0.1103,0.2423,0.3134,0.4786,0.5239,0.4393,0.3440,0.2869,0.3889,0.4420,0.3892,0.4088,0.5006,0.7271,0.9385,1.0000,0.9831,0.9932,0.9161,0.8237,0.6957,0.4536,0.3281,0.2522,0.3964,0.4154,0.3308,0.1445,0.1923,0.3208,0.3367,0.5683,0.5505,0.3231,0.0448,0.3131,0.3387,0.4130,0.3639,0.2069,0.0859,0.0600,0.0267,0.0125,0.0040,0.0136,0.0137,0.0172,0.0132,0.0110,0.0122,0.0114,0.0068)\n",
    "\n",
    "input_data_as_numpy_array = np.asarray(input_data)\n",
    "\n",
    "input_data_reshaped = input_data_as_numpy_array.reshape(1,-1)   \n",
    "\n",
    "prediction = model.predict(input_data_reshaped)\n",
    "print(prediction)"
   ]
  },
  {
   "cell_type": "code",
   "execution_count": null,
   "id": "287b7a38",
   "metadata": {},
   "outputs": [],
   "source": [
    "if(prediction[0] == \"R\") : \n",
    "    print ( \"The object is a Rock\" )\n",
    "else :\n",
    "    print ( \"The object is a Mine\" )    "
   ]
  },
  {
   "cell_type": "markdown",
   "id": "9efd49ad",
   "metadata": {},
   "source": [
    "Saving Model"
   ]
  },
  {
   "cell_type": "code",
   "execution_count": 33,
   "id": "3e0d01d9",
   "metadata": {},
   "outputs": [
    {
     "data": {
      "text/plain": [
       "['rock_mine.pkl']"
      ]
     },
     "execution_count": 33,
     "metadata": {},
     "output_type": "execute_result"
    }
   ],
   "source": [
    "joblib.dump(model, \"rock_mine.pkl\")"
   ]
  }
 ],
 "metadata": {
  "kernelspec": {
   "display_name": "venv (3.13.2)",
   "language": "python",
   "name": "python3"
  },
  "language_info": {
   "codemirror_mode": {
    "name": "ipython",
    "version": 3
   },
   "file_extension": ".py",
   "mimetype": "text/x-python",
   "name": "python",
   "nbconvert_exporter": "python",
   "pygments_lexer": "ipython3",
   "version": "3.13.2"
  }
 },
 "nbformat": 4,
 "nbformat_minor": 5
}
