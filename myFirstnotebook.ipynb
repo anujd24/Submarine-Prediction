{
 "cells": [
  {
   "cell_type": "markdown",
   "id": "63491749",
   "metadata": {},
   "source": [
    "Product Analysis"
   ]
  },
  {
   "cell_type": "code",
   "execution_count": null,
   "id": "fa4b59b9",
   "metadata": {},
   "outputs": [],
   "source": [
    "import pandas as pd\n",
    " \n",
    "data  = {\n",
    "    'Product_ID' : range(101,105),\n",
    "    \"Product_Name\" : ['A', 'B', 'C', 'D'],\n",
    "    \"Category\" : [\"Electronics\", \"Electronics\", \"Furniture\", \"Clothing\"],\n",
    "    \"Price\" : [299, 199.99, 189.99, 179.99],\n",
    "    'Stock' : [50, 60, 70, 80]\n",
    "}\n",
    "\n",
    "df = pd.DataFrame(data)"
   ]
  },
  {
   "cell_type": "code",
   "execution_count": null,
   "id": "361a4b3a",
   "metadata": {},
   "outputs": [],
   "source": [
    "import matplotlib.pyplot as plt # type: ignore\n",
    "\n",
    "plt.scatter(df['Price'], df['Stock'])\n",
    "plt.show()"
   ]
  }
 ],
 "metadata": {
  "kernelspec": {
   "display_name": "venv (3.13.2)",
   "language": "python",
   "name": "python3"
  },
  "language_info": {
   "codemirror_mode": {
    "name": "ipython",
    "version": 3
   },
   "file_extension": ".py",
   "mimetype": "text/x-python",
   "name": "python",
   "nbconvert_exporter": "python",
   "pygments_lexer": "ipython3",
   "version": "3.13.2"
  }
 },
 "nbformat": 4,
 "nbformat_minor": 5
}
